{
 "cells": [
  {
   "cell_type": "code",
   "execution_count": 1,
   "metadata": {},
   "outputs": [
    {
     "name": "stdout",
     "output_type": "stream",
     "text": [
      "Enter the integer for factorial : 3\n",
      "The result is 6\n"
     ]
    }
   ],
   "source": [
    "# 1. Python function to calculate the factorial of a number\n",
    "\n",
    "def factoo(number):\n",
    "    if number < 0 :\n",
    "        print (\"You have entered a negative integer..\")\n",
    "    elif number == 0 or number == 1:\n",
    "        print (\"Factorial of \" + str (number) + \" is 1\")\n",
    "    else :\n",
    "        facto = 1\n",
    "        for i in range(1,int (number) + 1):\n",
    "            facto = facto*i\n",
    "        print (\"The result is \"+ str(facto)) \n",
    "            \n",
    "num = raw_input(\"Enter the integer for factorial : \")\n",
    "factoo (num)"
   ]
  },
  {
   "cell_type": "code",
   "execution_count": 2,
   "metadata": {},
   "outputs": [
    {
     "name": "stdout",
     "output_type": "stream",
     "text": [
      "Enter string : SHEHroze\n",
      "The number of lowercase characters is: 4\n",
      "The number of uppercase characters is: 4\n"
     ]
    }
   ],
   "source": [
    "# 2. Python function that accepts a string and calculate the number of upper case letters and lower case letters.\n",
    "\n",
    "def upperlower(string):\n",
    "    count1=0\n",
    "    count2=0\n",
    "    for i in string:\n",
    "        if(i.islower()):\n",
    "            count1=count1+1\n",
    "        elif(i.isupper()):\n",
    "            count2=count2+1\n",
    "    print(\"The number of lowercase characters is: \"+ str(count1))\n",
    "    print(\"The number of uppercase characters is: \"+ str (count2))\n",
    "\n",
    "\n",
    "string=raw_input(\"Enter string : \")\n",
    "upperlower (string)"
   ]
  },
  {
   "cell_type": "code",
   "execution_count": 3,
   "metadata": {},
   "outputs": [
    {
     "name": "stdout",
     "output_type": "stream",
     "text": [
      "Total elements you want to enter in list :5\n",
      "Input : 2\n",
      "Input : 3\n",
      "Input : 5\n",
      "Input : 9\n",
      "Input : 10\n",
      "Entry Complete....\n",
      "2\n",
      "10\n",
      "Task complete\n"
     ]
    }
   ],
   "source": [
    "# 3. Python function to print the even numbers from a given list.\n",
    "\n",
    "def evenodd (alist):\n",
    "    for i in alist:\n",
    "        if (i%2 == 0):\n",
    "            print (i)\n",
    "    print (\"Task complete\")\n",
    "\n",
    "\n",
    "total = int (raw_input(\"Total elements you want to enter in list :\")) \n",
    "listt=[]\n",
    "for j in range(0,total):\n",
    "    temp = int(raw_input (\"Input : \"))\n",
    "    listt.append(temp)\n",
    "print (\"Entry Complete....\")\n",
    "evenodd(listt)"
   ]
  },
  {
   "cell_type": "code",
   "execution_count": 4,
   "metadata": {},
   "outputs": [
    {
     "name": "stdout",
     "output_type": "stream",
     "text": [
      "Enter String to check for palindrome : madam\n",
      "String is a palindrome\n"
     ]
    }
   ],
   "source": [
    "# 4. Python function that checks whether a passed string is palindrome or not.\n",
    "\n",
    "def reversify(s):\n",
    "    return s[::-1]\n",
    "\n",
    "def palindrom(s):\n",
    "    reversee = reversify(s)\n",
    "    if (s == reversee):\n",
    "        print (\"String is a palindrome\")\n",
    "    else:\n",
    "        print (\"String is not a palindrome\")\n",
    "    \n",
    "stringg = raw_input (\"Enter String to check for palindrome : \")\n",
    "palindrom(stringg)\n"
   ]
  },
  {
   "cell_type": "code",
   "execution_count": 5,
   "metadata": {},
   "outputs": [
    {
     "name": "stdout",
     "output_type": "stream",
     "text": [
      "Enter the number to check for prime number : 21\n",
      "21 is not a prime number. \n"
     ]
    }
   ],
   "source": [
    "# 5. Python function that takes a number as a parameter and check the number is prime or not.\n",
    "\n",
    "\n",
    "def primeOrNot (s):\n",
    "    if s > 1:\n",
    "        for i in range (2,s):\n",
    "            if (s%i == 0):\n",
    "                print (str (s) + \" is not a prime number. \")\n",
    "                break\n",
    "        else:\n",
    "            print (str (s) + \" is a prime number. \")\n",
    "    else:\n",
    "        print (str (s) + \" is not a prime number. \")\n",
    "\n",
    "\n",
    "numberr = int (raw_input (\"Enter the number to check for prime number : \"))\n",
    "primeOrNot(numberr)   \n",
    "\n"
   ]
  },
  {
   "cell_type": "code",
   "execution_count": 6,
   "metadata": {},
   "outputs": [
    {
     "name": "stdout",
     "output_type": "stream",
     "text": [
      "Bread\n",
      "Butter\n",
      "Honey\n",
      "Juice\n"
     ]
    }
   ],
   "source": [
    "# 6. Write a function which accepts the multiple arguments of user shopping list and print \n",
    "# all the items which user bought from market.\n",
    "\n",
    "\n",
    "\n",
    "def groceryL(*itemss):  \n",
    "    for items in itemss:  \n",
    "        print (items) \n",
    "\n",
    "        \n",
    "groceryL('Bread', 'Butter', 'Honey', 'Juice')  "
   ]
  },
  {
   "cell_type": "code",
   "execution_count": null,
   "metadata": {},
   "outputs": [],
   "source": []
  }
 ],
 "metadata": {
  "kernelspec": {
   "display_name": "Python 2",
   "language": "python",
   "name": "python2"
  },
  "language_info": {
   "codemirror_mode": {
    "name": "ipython",
    "version": 2
   },
   "file_extension": ".py",
   "mimetype": "text/x-python",
   "name": "python",
   "nbconvert_exporter": "python",
   "pygments_lexer": "ipython2",
   "version": "2.7.16"
  }
 },
 "nbformat": 4,
 "nbformat_minor": 2
}
