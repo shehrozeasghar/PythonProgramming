{
 "cells": [
  {
   "cell_type": "code",
   "execution_count": 11,
   "metadata": {},
   "outputs": [
    {
     "name": "stdout",
     "output_type": "stream",
     "text": [
      "The detail of car is as follows\n",
      "Car Name: Mehran\n",
      "Company: Suzuki\n",
      "Model: 2019\n",
      "Color: White\n",
      "Transmission: Manual\n",
      "\n",
      "The detail of car is as follows\n",
      "Car Name: Corolla\n",
      "Company: Toyota\n",
      "Model: 2018\n",
      "Color: Grey\n",
      "Transmission: Automatic\n",
      "\n",
      "The detail of car is as follows\n",
      "Car Name: Mini\n",
      "Company: Tata\n",
      "Model: 2019\n",
      "Color: White\n",
      "Transmission: Semi-automatic\n",
      "\n",
      "The detail of car is as follows\n",
      "Car Name: Picanto\n",
      "Company: Hyundai\n",
      "Model: 2019\n",
      "Color: Black\n",
      "Transmission: Automatic\n",
      "\n",
      "The detail of car is as follows\n",
      "Car Name: Mira\n",
      "Company: Japan Automobile\n",
      "Model: 2017\n",
      "Color: Silver\n",
      "Transmission: Automatic\n",
      "\n"
     ]
    }
   ],
   "source": [
    "class Car():\n",
    "    def __init__(self,name,company,model,color,transmission):\n",
    "        self.name = name\n",
    "        self.company = company\n",
    "        self.model = model\n",
    "        self.color = color\n",
    "        self.transmission = transmission\n",
    "car1 = Car(\"Mehran\",\"Suzuki\",\"2019\",\"White\",\"Manual\")\n",
    "print (\"The detail of car is as follows\\nCar Name: \"+car1.name+\"\\nCompany: \"+car1.company+\"\\nModel: \"+car1.model+\"\\nColor: \"+car1.color+\"\\nTransmission: \"+car1.transmission+\"\\n\")\n",
    "car2 = Car(\"Corolla\",\"Toyota\",\"2018\",\"Grey\",\"Automatic\")\n",
    "print (\"The detail of car is as follows\\nCar Name: \"+car2.name+\"\\nCompany: \"+car2.company+\"\\nModel: \"+car2.model+\"\\nColor: \"+car2.color+\"\\nTransmission: \"+car2.transmission+\"\\n\")\n",
    "car3 = Car(\"Mini\",\"Tata\",\"2019\",\"White\",\"Semi-automatic\")\n",
    "print (\"The detail of car is as follows\\nCar Name: \"+car3.name+\"\\nCompany: \"+car3.company+\"\\nModel: \"+car3.model+\"\\nColor: \"+car3.color+\"\\nTransmission: \"+car3.transmission+\"\\n\")\n",
    "car4 = Car(\"Picanto\",\"Hyundai\",\"2019\",\"Black\",\"Automatic\")\n",
    "print (\"The detail of car is as follows\\nCar Name: \"+car4.name+\"\\nCompany: \"+car4.company+\"\\nModel: \"+car4.model+\"\\nColor: \"+car4.color+\"\\nTransmission: \"+car4.transmission+\"\\n\")\n",
    "car5 = Car(\"Mira\",\"Japan Automobile\",\"2017\",\"Silver\",\"Automatic\")\n",
    "print (\"The detail of car is as follows\\nCar Name: \"+car5.name+\"\\nCompany: \"+car5.company+\"\\nModel: \"+car5.model+\"\\nColor: \"+car5.color+\"\\nTransmission: \"+car5.transmission+\"\\n\")\n"
   ]
  },
  {
   "cell_type": "code",
   "execution_count": null,
   "metadata": {},
   "outputs": [],
   "source": []
  }
 ],
 "metadata": {
  "kernelspec": {
   "display_name": "Python 2",
   "language": "python",
   "name": "python2"
  },
  "language_info": {
   "codemirror_mode": {
    "name": "ipython",
    "version": 2
   },
   "file_extension": ".py",
   "mimetype": "text/x-python",
   "name": "python",
   "nbconvert_exporter": "python",
   "pygments_lexer": "ipython2",
   "version": "2.7.16"
  }
 },
 "nbformat": 4,
 "nbformat_minor": 2
}
