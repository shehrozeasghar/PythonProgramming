{
 "cells": [
  {
   "cell_type": "code",
   "execution_count": null,
   "metadata": {},
   "outputs": [],
   "source": [
    "# 1. Make a calculator using Python with addition , subtraction , multiplication , division and power.\n",
    "\n",
    "print(\"1. Addition\");\n",
    "print(\"2. Subtraction\");\n",
    "print(\"3. Multiplication\");\n",
    "print(\"4. Division\");\n",
    "print(\"5. Power\")\n",
    "print(\"6. Exit\");\n",
    "choice = int(input(\"Enter your choice: \"));\n",
    "if (choice>=1 and choice<=5):\n",
    "    #print(\"Enter two numbers: \");\n",
    "    num1 = int(input(\"Enter 1st Number: \"));\n",
    "    num2 = int(input(\"Enter 2nd Number: \"));\n",
    "    if choice == 1:\n",
    "    \tres = num1 + num2;\n",
    "    \tprint(\"Result = \"+ str(res));\n",
    "    elif choice == 2:\n",
    "    \tres = num1 - num2;\n",
    "    \tprint(\"Result = \"+ str(res));\n",
    "    elif choice == 3:\n",
    "    \tres = num1 * num2;\n",
    "    \tprint(\"Result = \"+ str(res));\n",
    "    elif choice == 4:\n",
    "    \tres = num1 / num2;\n",
    "    \tprint(\"Result = \"+ str(res));\n",
    "    elif choice == 5:\n",
    "    \tres = num1 ** num2;\n",
    "    \tprint(\"Result = \"+ str(res));    \n",
    "elif choice == 6:\n",
    "    exit();\n",
    "else:\n",
    "    print(\"Wrong input..!!\");"
   ]
  },
  {
   "cell_type": "code",
   "execution_count": 11,
   "metadata": {},
   "outputs": [
    {
     "name": "stdout",
     "output_type": "stream",
     "text": [
      "List doesn't contain numeric value\n"
     ]
    }
   ],
   "source": [
    "# 2. Write a program to check if there is any numeric value in list using for loop\n",
    "b=0\n",
    "listt = [\"one\",\"two\",\"three\"]\n",
    "for a in listt:\n",
    "    if (str(a).isdigit()):\n",
    "        print (\"List contains numeric value\")\n",
    "        b=1\n",
    "        break\n",
    "    else:\n",
    "        continue\n",
    "\n",
    "if (b == 0):\n",
    "    print (\"List doesn't contain numeric value\")"
   ]
  },
  {
   "cell_type": "code",
   "execution_count": 14,
   "metadata": {},
   "outputs": [
    {
     "name": "stdout",
     "output_type": "stream",
     "text": [
      "{'three': 3, 'two': 2, 'one': 1}\n",
      "{'four': 4, 'three': 3, 'two': 2, 'one': 1}\n"
     ]
    }
   ],
   "source": [
    "# 3. Write a Python script to add a key to a dictionary\n",
    "digitt = {\"one\":1,\"two\":2,\"three\":3}\n",
    "print (digitt)\n",
    "digitt.update({\"four\":4})\n",
    "print (digitt)"
   ]
  },
  {
   "cell_type": "code",
   "execution_count": 20,
   "metadata": {},
   "outputs": [
    {
     "name": "stdout",
     "output_type": "stream",
     "text": [
      "Values in the Dictionary: [54, -54, 100]\n",
      "Sum of the values:100\n"
     ]
    }
   ],
   "source": [
    "# 4. Write a Python program to sum all the numeric items in a dictionary\n",
    "dictt = {'value1':100,'value2':-54,'value3':54}\n",
    "print (\"Values in the Dictionary: \"+ str(dictt.values()))\n",
    "print(\"Sum of the values:\" + str(sum(dictt.values())))\n"
   ]
  },
  {
   "cell_type": "code",
   "execution_count": 24,
   "metadata": {},
   "outputs": [
    {
     "name": "stdout",
     "output_type": "stream",
     "text": [
      "15\n",
      "20\n",
      "30\n",
      "40\n",
      "50\n"
     ]
    }
   ],
   "source": [
    "# 5. Write a program to identify duplicate values from list\n",
    "my_list = [20,30,30,40,50,15,11,20,40,50,15]\n",
    "my_list.sort()\n",
    "for i in range (len (my_list) -1):\n",
    "    if my_list[i] == my_list[i+1]:\n",
    "        print (my_list[i])\n"
   ]
  },
  {
   "cell_type": "code",
   "execution_count": 28,
   "metadata": {},
   "outputs": [
    {
     "name": "stdout",
     "output_type": "stream",
     "text": [
      "Enter value: 7\n",
      "Key is not present in the dictionary\n"
     ]
    }
   ],
   "source": [
    "# 6. Write a Python script to check if a given key already exists in a dictionary\n",
    "d = {1: 10, 2: 20, 3: 30, 4: 40, 5: 50, 6: 60}\n",
    "x = int (input (\"Enter value: \"))\n",
    "if x in d:\n",
    "    print('Key is present in the dictionary')\n",
    "else:\n",
    "    print('Key is not present in the dictionary')"
   ]
  },
  {
   "cell_type": "code",
   "execution_count": null,
   "metadata": {},
   "outputs": [],
   "source": []
  }
 ],
 "metadata": {
  "kernelspec": {
   "display_name": "Python 2",
   "language": "python",
   "name": "python2"
  },
  "language_info": {
   "codemirror_mode": {
    "name": "ipython",
    "version": 2
   },
   "file_extension": ".py",
   "mimetype": "text/x-python",
   "name": "python",
   "nbconvert_exporter": "python",
   "pygments_lexer": "ipython2",
   "version": "2.7.16"
  }
 },
 "nbformat": 4,
 "nbformat_minor": 2
}
