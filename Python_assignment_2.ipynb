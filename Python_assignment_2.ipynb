{
 "cells": [
  {
   "cell_type": "code",
   "execution_count": 1,
   "metadata": {},
   "outputs": [
    {
     "name": "stdout",
     "output_type": "stream",
     "text": [
      "Enter name of subject: ENGLISH\n",
      "Enter marks: 60\n",
      "Enter name of subject: URDU\n",
      "Enter marks: 50\n",
      "Enter name of subject: ISLAMIYAT\n",
      "Enter marks: 50\n",
      "Enter name of subject: MATHEMATICS\n",
      "Enter marks: 60\n",
      "Enter name of subject: COMPUTER \n",
      "Enter marks: 30\n",
      "\t\tMARK SHEET\n",
      "\n",
      "ENGLISH\t\t60\n",
      "URDU\t\t50\n",
      "ISLAMIYAT\t\t50\n",
      "MATHEMATICS\t\t60\n",
      "COMPUTER \t\t30\n",
      " Total\t\t250\n",
      " Grade\t\tB\n"
     ]
    }
   ],
   "source": [
    "# 1. program which takes 5 inputs from user for different subject’s marks, total it and generate mark sheet using grades\n",
    "\n",
    "sub1=raw_input(\"Enter name of subject: \")\n",
    "marks1=int(input(\"Enter marks: \"))\n",
    "\n",
    "sub2=raw_input(\"Enter name of subject: \")\n",
    "marks2=int(input(\"Enter marks: \"))\n",
    "\n",
    "sub3=raw_input(\"Enter name of subject: \")\n",
    "marks3=int(input(\"Enter marks: \"))\n",
    "\n",
    "sub4=raw_input(\"Enter name of subject: \")\n",
    "marks4=int(input(\"Enter marks: \"))\n",
    "\n",
    "sub5=raw_input(\"Enter name of subject: \")\n",
    "marks5=int(input(\"Enter marks: \"))\n",
    "\n",
    "total = marks1 + marks2 + marks3 + marks4 + marks5\n",
    "\n",
    "avg = total/5\n",
    "\n",
    "if(avg>=90):\n",
    "    grade = \"A\"\n",
    "elif(avg>=80&avg<90):\n",
    "    grade = \"B\"\n",
    "elif(avg>=70&avg<80):\n",
    "    grade = \"C\"\n",
    "elif(avg>=60&avg<70):\n",
    "    grade = \"D\"\n",
    "elif(avg>=50&avg<60):\n",
    "    grade = \"E\"\n",
    "else:\n",
    "    grade = \"F\"\n",
    "\n",
    "print (\"\\tMARK SHEET\\n\\n\"+sub1+\"\\t\\t\"+str(marks1)+\"\\n\"+sub2+\"\\t\\t\"+str(marks2)+\"\\n\"+sub3+\"\\t\\t\"+str(marks3)+\"\\n\"+sub4+\"\\t\\t\"+str(marks4)+\"\\n\"+sub5+\"\\t\\t\"+str(marks5)+\"\\n Total\\t\\t\"+str(total)+\"\\n Grade\\t\\t\"+grade)"
   ]
  },
  {
   "cell_type": "code",
   "execution_count": 2,
   "metadata": {},
   "outputs": [
    {
     "name": "stdout",
     "output_type": "stream",
     "text": [
      "Enter a number: 5\n",
      "This is an odd number.\n"
     ]
    }
   ],
   "source": [
    "# 2. program which take input from user and identify that the given number is even or odd\n",
    "\n",
    "num = int(input(\"Enter a number: \"))\n",
    "mod = num % 2\n",
    "if mod > 0:\n",
    "    print(\"This is an odd number.\")\n",
    "else:\n",
    "    print(\"This is an even number.\")"
   ]
  },
  {
   "cell_type": "code",
   "execution_count": 3,
   "metadata": {},
   "outputs": [
    {
     "name": "stdout",
     "output_type": "stream",
     "text": [
      "Length of list 'qatar' is 8\n"
     ]
    }
   ],
   "source": [
    "# 3. program which print the length of the list\n",
    "\n",
    "qatar = [1,\"One\",2,\"Two\",3,\"Three\",4,\"Four\"]\n",
    "print (\"Length of list 'qatar' is \"+ str(len(qatar)))"
   ]
  },
  {
   "cell_type": "code",
   "execution_count": 4,
   "metadata": {},
   "outputs": [
    {
     "name": "stdout",
     "output_type": "stream",
     "text": [
      "('Sum of all elements in given list: ', '14')\n"
     ]
    }
   ],
   "source": [
    "# 4. Python program to sum all the numeric items in a list\n",
    "\n",
    "total = 0\n",
    "list1 = [1, 1, 1, 1, 10]  \n",
    "\n",
    "for ele in range(0, len(list1)): \n",
    "    total += list1[ele] \n",
    "  \n",
    "print(\"Sum of all elements in given list: \", str (total)) "
   ]
  },
  {
   "cell_type": "code",
   "execution_count": 5,
   "metadata": {
    "scrolled": true
   },
   "outputs": [
    {
     "name": "stdout",
     "output_type": "stream",
     "text": [
      "('The largest value in list is ', 5)\n"
     ]
    }
   ],
   "source": [
    "# 5. Write a Python program to get the largest number from a numeric list.\n",
    "\n",
    "collection = [1,2,3,4,5]\n",
    "\n",
    "print (\"The largest value in list is \", max(collection))\n"
   ]
  },
  {
   "cell_type": "code",
   "execution_count": 6,
   "metadata": {},
   "outputs": [
    {
     "name": "stdout",
     "output_type": "stream",
     "text": [
      "1\n",
      "1\n",
      "2\n",
      "3\n"
     ]
    }
   ],
   "source": [
    "# 6. write a program that prints out all the elements of the list that are less than 5.\n",
    "\n",
    "a = [1, 1, 2, 3, 5, 8, 13, 21, 34, 55, 89]\n",
    "\n",
    "for i in a:\n",
    "\n",
    "    if i < 5:\n",
    "\n",
    "        print(i)"
   ]
  }
 ],
 "metadata": {
  "kernelspec": {
   "display_name": "Python 2",
   "language": "python",
   "name": "python2"
  },
  "language_info": {
   "codemirror_mode": {
    "name": "ipython",
    "version": 2
   },
   "file_extension": ".py",
   "mimetype": "text/x-python",
   "name": "python",
   "nbconvert_exporter": "python",
   "pygments_lexer": "ipython2",
   "version": "2.7.16"
  }
 },
 "nbformat": 4,
 "nbformat_minor": 2
}
