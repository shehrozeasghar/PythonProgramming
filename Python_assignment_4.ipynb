{
 "cells": [
  {
   "cell_type": "code",
   "execution_count": 1,
   "metadata": {},
   "outputs": [
    {
     "name": "stdout",
     "output_type": "stream",
     "text": [
      "['Karachi', 'Shehroze', 'Asghar', 28]\n",
      "['Karachi', 'Shehroze', 'Asghar', 28, 'BS']\n",
      "['Karachi', 'Shehroze', 'Asghar', 28, 'MS']\n",
      "['Karachi', 'Shehroze', 'Asghar', 28]\n"
     ]
    }
   ],
   "source": [
    "#Question1\n",
    "person = {\n",
    "    \"first_name\" : \"Shehroze\",\n",
    "    \"last_name\" : \"Asghar\",\n",
    "    \"age\" : 28,\n",
    "    \"city\" : \"Karachi\"\n",
    "}\n",
    "print (person.values())\n",
    "person.update({\"Qualification\":\"BS\"})\n",
    "print (person.values())\n",
    "person[\"Qualification\"]=\"MS\"\n",
    "print (person.values())\n",
    "del person [\"Qualification\"]\n",
    "print (person.values())"
   ]
  },
  {
   "cell_type": "code",
   "execution_count": 2,
   "metadata": {},
   "outputs": [
    {
     "name": "stdout",
     "output_type": "stream",
     "text": [
      "\n",
      "Rawalpindi is in Pakistan.\n",
      "  It has a population of about 2.196M.\n",
      "  The fact about Rawalpindi: Sister city of Islamabad\n",
      "\n",
      "Chicago is in America.\n",
      "  It has a population of about 2.705M.\n",
      "  The fact about Chicago: Spray paint was invented in Chicago\n",
      "\n",
      "Mumbai is in India.\n",
      "  It has a population of about 20.185M.\n",
      "  The fact about Mumbai: World’s most expensive house is in Mumbai\n"
     ]
    }
   ],
   "source": [
    "#Question2\n",
    "cities = {\n",
    "    \"Rawalpindi\":{\"country\":\"Pakistan\", \"population\":2.196, \"fact\":\"Sister city of Islamabad\"},\n",
    "     \"Mumbai\":{\"country\":\"India\", \"population\":20.185, \"fact\":\"World’s most expensive house is in Mumbai\"},\n",
    "     \"Chicago\":{\"country\":\"America\", \"population\":2.705, \"fact\":\"Spray paint was invented in Chicago\"}  \n",
    "}\n",
    "for city, city_info in cities.items():\n",
    "    country = city_info[\"country\"]\n",
    "    population = city_info['population']\n",
    "    factss = city_info['fact']\n",
    "\n",
    "    print(\"\\n\" + city.title() + \" is in \" + country + \".\")\n",
    "    print(\"  It has a population of about \" + str(population) + \"M.\")\n",
    "    print(\"  The \" + \"fact about \" + city + \": \" + factss)"
   ]
  },
  {
   "cell_type": "code",
   "execution_count": 3,
   "metadata": {},
   "outputs": [
    {
     "name": "stdout",
     "output_type": "stream",
     "text": [
      "How old are you?\n",
      "Enter 'quit' when you are finished. quit\n"
     ]
    }
   ],
   "source": [
    "#Question3\n",
    "prompt = \"How old are you?\\nEnter 'quit' when you are finished. \"\n",
    "\n",
    "while True:\n",
    "    age = raw_input(prompt)\n",
    "    if age == \"quit\":\n",
    "        break\n",
    "    age = int(age)\n",
    "\n",
    "    if age < 3:\n",
    "        print(\"  You get in free!\")\n",
    "    elif age < 13:\n",
    "        print(\"  Your ticket is $10.\")\n",
    "    else:\n",
    "        print(\"  Your ticket is $15.\")"
   ]
  },
  {
   "cell_type": "code",
   "execution_count": 1,
   "metadata": {},
   "outputs": [
    {
     "name": "stdout",
     "output_type": "stream",
     "text": [
      "Enter name of your favourite book. peer ay kaamil\n",
      "One of my favorite books is peer ay kaamil.\n"
     ]
    }
   ],
   "source": [
    "#Question4\n",
    "def favorite_book(book):\n",
    "    print (\"One of my favorite books is \"+ book + \".\")\n",
    "\n",
    "book = raw_input(\"Enter name of your favourite book. \")\n",
    "favorite_book(book)"
   ]
  },
  {
   "cell_type": "code",
   "execution_count": 2,
   "metadata": {},
   "outputs": [
    {
     "name": "stdout",
     "output_type": "stream",
     "text": [
      "Enter number : 3\n",
      "Your guess is wrong\n",
      "The number you have entered is less than actual number..\n",
      "Enter number : 6\n",
      "Your guess is wrong\n",
      "The number you have entered is less than actual number..\n",
      "Enter number : 9\n",
      "Your guess is wrong\n",
      "The number you have entered is less than actual number..\n",
      "Program is going to terminate...Bye Bye........\n"
     ]
    }
   ],
   "source": [
    "#Question5\n",
    "import random\n",
    "ranno=(random.randrange(1,31))\n",
    "iteration = 0\n",
    "while iteration < 3:\n",
    "    guesss = int (raw_input (\"Enter number : \"))\n",
    "    if (ranno == guesss):\n",
    "        print (\"Your guess is right....Congratulations\")\n",
    "        break\n",
    "    else:\n",
    "        print (\"Your guess is wrong\")\n",
    "        iteration += 1\n",
    "        if (guesss < ranno):\n",
    "            print (\"The number you have entered is less than actual number..\")\n",
    "        else:\n",
    "            print (\"The number you have entered is greater than actual number..\") \n",
    "print (\"Program is going to terminate...Bye Bye........\")\n",
    "        \n",
    "    \n",
    "\n"
   ]
  },
  {
   "cell_type": "code",
   "execution_count": null,
   "metadata": {},
   "outputs": [],
   "source": []
  },
  {
   "cell_type": "code",
   "execution_count": null,
   "metadata": {},
   "outputs": [],
   "source": []
  }
 ],
 "metadata": {
  "kernelspec": {
   "display_name": "Python 2",
   "language": "python",
   "name": "python2"
  },
  "language_info": {
   "codemirror_mode": {
    "name": "ipython",
    "version": 2
   },
   "file_extension": ".py",
   "mimetype": "text/x-python",
   "name": "python",
   "nbconvert_exporter": "python",
   "pygments_lexer": "ipython2",
   "version": "2.7.16"
  }
 },
 "nbformat": 4,
 "nbformat_minor": 2
}
